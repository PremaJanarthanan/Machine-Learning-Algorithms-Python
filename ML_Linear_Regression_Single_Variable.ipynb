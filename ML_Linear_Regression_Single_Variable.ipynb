{
 "cells": [
  {
   "cell_type": "code",
   "execution_count": 4,
   "metadata": {},
   "outputs": [
    {
     "name": "stdout",
     "output_type": "stream",
     "text": [
      "[828.46507522]\n",
      "-1632210.7578554575\n",
      "0.890916917957032\n",
      "Mean Absolute Error: 3088.866427771442\n",
      "Mean Squared Error: 15462739.061504772\n",
      "Root Mean Squared Error: 3932.268945723928\n"
     ]
    },
    {
     "data": {
      "image/png": "[encoded data removed]",
      "text/plain": [
       "<Figure size 432x288 with 1 Axes>"
      ]
     },
     "metadata": {
      "needs_background": "light"
     },
     "output_type": "display_data"
    }
   ],
   "source": [
    "import pandas as pd\n",
    "import numpy as np\n",
    "import matplotlib.pyplot as plt\n",
    "from sklearn import linear_model\n",
    "\n",
    "#load data\n",
    "df = pd.read_csv(\"C:/Prema/Data Science/ML algorithms/linear regression/canada_per_capita_income.csv\")\n",
    "\n",
    "#Scatter plot to get an idea about the data whether it can be linearly separable or not\n",
    "df.columns = ['year','capita']\n",
    "plt.xlabel('year')\n",
    "plt.ylabel(\"capita\")\n",
    "plt.scatter(df.year,df.capita,color='red',marker='+')\n",
    "#from the plot, we can understand, it can be plot linearly\n",
    "\n",
    "#Split dependent and independane variable\n",
    "train_data = df.drop('capita', axis=1)\n",
    "true_output = df['capita']\n",
    "\n",
    "#Train model with fit method\n",
    "reg = linear_model.LinearRegression(fit_intercept=True,normalize=False,copy_X=True,n_jobs=None)#default parameters,no need 2give\n",
    "reg.fit(df[['year']],true_output)\n",
    "predict_output = reg.predict(train_data)\n",
    "\n",
    "#Predict\n",
    "reg.predict([[2020]]) #should be 2D input, we can send separate csv file also\n",
    "\n",
    "\n",
    "#Plot the line\n",
    "df.columns = ['year','capita']\n",
    "plt.xlabel('year')\n",
    "plt.ylabel(\"capita\")\n",
    "plt.scatter(df.year,df.capita,color='red',marker='+')\n",
    "plt.plot(df.year,predict_output,color = 'blue')\n",
    "\n",
    "# Checking co efficients of Model\n",
    "print(reg.coef_)   #slope value\n",
    "print(reg.intercept_)  #check the intercept value\n",
    "print(reg.score(df[['year']],df.capita))  #if it close to 1, then it is good  model\n",
    "\n",
    "#Checking all error values\n",
    "from sklearn.metrics import mean_absolute_error\n",
    "print('Mean Absolute Error:',mean_absolute_error(true_output,predict_output))\n",
    "print('Mean Squared Error:', metrics.mean_squared_error(true_output,predict_output))\n",
    "print('Root Mean Squared Error:', np.sqrt(metrics.mean_squared_error(true_output,predict_output)))"
   ]
  },
  {
   "cell_type": "code",
   "execution_count": null,
   "metadata": {},
   "outputs": [],
   "source": [
    "metrics.s"
   ]
  }
 ],
 "metadata": {
  "kernelspec": {
   "display_name": "Python 3",
   "language": "python",
   "name": "python3"
  },
  "language_info": {
   "codemirror_mode": {
    "name": "ipython",
    "version": 3
   },
   "file_extension": ".py",
   "mimetype": "text/x-python",
   "name": "python",
   "nbconvert_exporter": "python",
   "pygments_lexer": "ipython3",
   "version": "3.7.6"
  }
 },
 "nbformat": 4,
 "nbformat_minor": 4
}
